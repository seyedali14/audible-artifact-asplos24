{
 "cells": [
  {
   "cell_type": "markdown",
   "metadata": {},
   "source": [
    "**Table of contents**<a id='toc0_'></a>    \n",
    "- [Importing Libraries](#toc1_)    \n",
    "- [Reading a Result](#toc2_)    \n",
    "- [Reding Example of Audible](#toc3_)    \n",
    "- [Reading Example of CLT](#toc4_)    \n",
    "- [Reading Example of oversubscription-oracle](#toc5_)    \n",
    "- [Reporting Average Utilization and Violation Rate](#toc6_)    \n",
    "\n",
    "<!-- vscode-jupyter-toc-config\n",
    "\tnumbering=false\n",
    "\tanchor=true\n",
    "\tflat=false\n",
    "\tminLevel=1\n",
    "\tmaxLevel=6\n",
    "\t/vscode-jupyter-toc-config -->\n",
    "<!-- THIS CELL WILL BE REPLACED ON TOC UPDATE. DO NOT WRITE YOUR TEXT IN THIS CELL -->"
   ]
  },
  {
   "cell_type": "markdown",
   "metadata": {},
   "source": [
    "# <a id='toc1_'></a>[Importing Libraries](#toc0_)"
   ]
  },
  {
   "cell_type": "code",
   "execution_count": 1,
   "metadata": {},
   "outputs": [],
   "source": [
    "import pandas as pd\n",
    "import numpy as np"
   ]
  },
  {
   "cell_type": "markdown",
   "metadata": {},
   "source": [
    "# <a id='toc2_'></a>[Reading a Result](#toc0_)\n",
    "\n",
    "The `result_df` dataframe stores information on server **usage** and potential **carry_over** (resulting from resource shortage) throughout the steady-state phase. Each row within the dataframe is representative of an individual server. The steady-state time frame is established at 2016, indicating that the metrics for utilization and carry-over are recorded at 2016 distinct time points towards the end of the simulation. The **deployed_time** column includes a list of tuples, each consisting of a the simulation time point when the VM was deployed, terminated and the VMID, for VMs that influence steady-state usage. This means every VM active during the entire steady state period or a portion of it is documented in this list for each server.\n",
    "\n",
    "\n",
    "Additional columns in the dataframe are algorithm-dependent. For comprehensive insights into each column unique to the algorithm, we delve into the results of executing each example in `run_simulator.ipynb`, as detailed below."
   ]
  },
  {
   "cell_type": "code",
   "execution_count": 7,
   "metadata": {},
   "outputs": [],
   "source": [
    "# reading result function\n",
    "def parse_filename_to_dict(filename):\n",
    "    keys = [\"rand_seed\", \"algorithm_name\", \"ds_name\", \"num_arrival_vms_per_time_idx\", \"time_bound\", \"first_model\", \"prediction_type\", \"lb_name\", \"number_of_servers\", \"server_capacity\", \"acceptable_violation\", \"retreat_num_samples\", \"drop\", \"steady_state_time\"]\n",
    "    values = filename.strip('.feather').split('_')[1:]\n",
    "    values[2] += '_' + values[3] # to account for '_' in the ds_name\n",
    "    values[8] += '_' + values[9] # to account for '_' in the lb_name\n",
    "    values.pop(3)\n",
    "    values.pop(8)\n",
    "    return dict(zip(keys, values))\n",
    "\n",
    "def read_result(location):\n",
    "    try:\n",
    "        simulation_param_dict = np.load(f'{location}_params.npy', allow_pickle = True).reshape(1, )[0]['params']\n",
    "    except:\n",
    "        simulation_param_dict = parse_filename_to_dict(location.split('/')[-1])\n",
    "    result_df = pd.read_feather(f'{location}.feather')\n",
    "\n",
    "    print('Result for the following simulation setting has been retrieved:\\n', simulation_param_dict)\n",
    "    return result_df, simulation_param_dict"
   ]
  },
  {
   "cell_type": "markdown",
   "metadata": {},
   "source": [
    "# <a id='toc3_'></a>[Reding Example of Audible](#toc0_)"
   ]
  },
  {
   "cell_type": "code",
   "execution_count": 8,
   "metadata": {},
   "outputs": [
    {
     "name": "stdout",
     "output_type": "stream",
     "text": [
      "Result for the following simulation setting has been retrieved:\n",
      " {'rand_seed': '777', 'algorithm_name': 'audible', 'ds_name': '2021_burstable', 'num_arrival_vms_per_time_idx': '269', 'time_bound': '87264', 'first_model': '0.95', 'prediction_type': 'oracle', 'lb_name': 'worst-fit_usage', 'number_of_servers': '756', 'server_capacity': '48', 'acceptable_violation': '0.01', 'retreat_num_samples': '0', 'drop': 'True', 'steady_state_time': '2880'}\n"
     ]
    },
    {
     "data": {
      "text/html": [
       "<div>\n",
       "<style scoped>\n",
       "    .dataframe tbody tr th:only-of-type {\n",
       "        vertical-align: middle;\n",
       "    }\n",
       "\n",
       "    .dataframe tbody tr th {\n",
       "        vertical-align: top;\n",
       "    }\n",
       "\n",
       "    .dataframe thead th {\n",
       "        text-align: right;\n",
       "    }\n",
       "</style>\n",
       "<table border=\"1\" class=\"dataframe\">\n",
       "  <thead>\n",
       "    <tr style=\"text-align: right;\">\n",
       "      <th></th>\n",
       "      <th>usage</th>\n",
       "      <th>carry_over</th>\n",
       "      <th>deployed_times</th>\n",
       "    </tr>\n",
       "  </thead>\n",
       "  <tbody>\n",
       "    <tr>\n",
       "      <th>0</th>\n",
       "      <td>[24.11999999999997, 26.23999999999996, 26.7799...</td>\n",
       "      <td>[0.0, 0.0, 0.0, 0.0, 0.0, 0.0, 0.0, 0.0, 0.0, ...</td>\n",
       "      <td>[[379, 87264, 1698679], [4541, 87264, 2002747]...</td>\n",
       "    </tr>\n",
       "    <tr>\n",
       "      <th>1</th>\n",
       "      <td>[35.40999999999998, 24.74999999999998, 26.9899...</td>\n",
       "      <td>[0.0, 0.0, 0.0, 0.0, 0.0, 0.0, 0.0, 0.0, 0.0, ...</td>\n",
       "      <td>[[3417, 87264, 3009257], [4190, 87264, 52101],...</td>\n",
       "    </tr>\n",
       "  </tbody>\n",
       "</table>\n",
       "</div>"
      ],
      "text/plain": [
       "                                               usage  \\\n",
       "0  [24.11999999999997, 26.23999999999996, 26.7799...   \n",
       "1  [35.40999999999998, 24.74999999999998, 26.9899...   \n",
       "\n",
       "                                          carry_over  \\\n",
       "0  [0.0, 0.0, 0.0, 0.0, 0.0, 0.0, 0.0, 0.0, 0.0, ...   \n",
       "1  [0.0, 0.0, 0.0, 0.0, 0.0, 0.0, 0.0, 0.0, 0.0, ...   \n",
       "\n",
       "                                      deployed_times  \n",
       "0  [[379, 87264, 1698679], [4541, 87264, 2002747]...  \n",
       "1  [[3417, 87264, 3009257], [4190, 87264, 52101],...  "
      ]
     },
     "execution_count": 8,
     "metadata": {},
     "output_type": "execute_result"
    }
   ],
   "source": [
    "location = 'results/audible/small_777_audible_2021_burstable_269_87264_0.95_oracle_worst-fit_usage_756_48_0.01_0_True_2880'\n",
    "result_df, simulation_param_dict = read_result(location)\n",
    "result_df.head(2)"
   ]
  },
  {
   "cell_type": "markdown",
   "metadata": {},
   "source": [
    "# <a id='toc4_'></a>[Reading Example of CLT](#toc0_)"
   ]
  },
  {
   "cell_type": "markdown",
   "metadata": {},
   "source": [
    "Besides the standard columns present in result dataframes, the dataframe specific to the CLT algorithm features additional columns: **variance** and **mean**. These columns record the variance and mean values of the Gaussian distribution that models the aggregated server usage across each time point in the steady-state period for each of the servers."
   ]
  },
  {
   "cell_type": "code",
   "execution_count": 9,
   "metadata": {},
   "outputs": [
    {
     "name": "stdout",
     "output_type": "stream",
     "text": [
      "Result for the following simulation setting has been retrieved:\n",
      " {'rand_seed': '777', 'algorithm_name': 'CLT', 'ds_name': '2021_burstable', 'num_arrival_vms_per_time_idx': '278', 'time_bound': '87264', 'first_model': '0.95', 'prediction_type': 'oracle', 'lb_name': 'worst-fit_usage', 'number_of_servers': '756', 'server_capacity': '48', 'acceptable_violation': '0.01', 'retreat_num_samples': '0', 'drop': 'True', 'steady_state_time': '2880'}\n"
     ]
    },
    {
     "data": {
      "text/html": [
       "<div>\n",
       "<style scoped>\n",
       "    .dataframe tbody tr th:only-of-type {\n",
       "        vertical-align: middle;\n",
       "    }\n",
       "\n",
       "    .dataframe tbody tr th {\n",
       "        vertical-align: top;\n",
       "    }\n",
       "\n",
       "    .dataframe thead th {\n",
       "        text-align: right;\n",
       "    }\n",
       "</style>\n",
       "<table border=\"1\" class=\"dataframe\">\n",
       "  <thead>\n",
       "    <tr style=\"text-align: right;\">\n",
       "      <th></th>\n",
       "      <th>usage</th>\n",
       "      <th>variance</th>\n",
       "      <th>mean</th>\n",
       "      <th>carry_over</th>\n",
       "      <th>deployed_times</th>\n",
       "    </tr>\n",
       "  </thead>\n",
       "  <tbody>\n",
       "    <tr>\n",
       "      <th>0</th>\n",
       "      <td>[35.84999999999998, 28.749999999999975, 32.239...</td>\n",
       "      <td>[13.261393227559951, 13.261393227559951, 13.26...</td>\n",
       "      <td>[34.60376454997121, 34.60376454997121, 34.6037...</td>\n",
       "      <td>[0.0, 0.0, 0.0, 0.0, 0.0, 0.0, 0.0, 0.0, 0.0, ...</td>\n",
       "      <td>[[8, 87264, 1900296], [2305, 87264, 2027791], ...</td>\n",
       "    </tr>\n",
       "    <tr>\n",
       "      <th>1</th>\n",
       "      <td>[31.749999999999968, 28.149999999999963, 27.42...</td>\n",
       "      <td>[8.356456911768229, 8.356456911768229, 8.35645...</td>\n",
       "      <td>[40.038667449687225, 40.038667449687225, 40.03...</td>\n",
       "      <td>[0.0, 0.0, 0.0, 0.0, 0.0, 0.0, 0.0, 0.0, 0.0, ...</td>\n",
       "      <td>[[1616, 87264, 170725], [10774, 87264, 1431534...</td>\n",
       "    </tr>\n",
       "  </tbody>\n",
       "</table>\n",
       "</div>"
      ],
      "text/plain": [
       "                                               usage  \\\n",
       "0  [35.84999999999998, 28.749999999999975, 32.239...   \n",
       "1  [31.749999999999968, 28.149999999999963, 27.42...   \n",
       "\n",
       "                                            variance  \\\n",
       "0  [13.261393227559951, 13.261393227559951, 13.26...   \n",
       "1  [8.356456911768229, 8.356456911768229, 8.35645...   \n",
       "\n",
       "                                                mean  \\\n",
       "0  [34.60376454997121, 34.60376454997121, 34.6037...   \n",
       "1  [40.038667449687225, 40.038667449687225, 40.03...   \n",
       "\n",
       "                                          carry_over  \\\n",
       "0  [0.0, 0.0, 0.0, 0.0, 0.0, 0.0, 0.0, 0.0, 0.0, ...   \n",
       "1  [0.0, 0.0, 0.0, 0.0, 0.0, 0.0, 0.0, 0.0, 0.0, ...   \n",
       "\n",
       "                                      deployed_times  \n",
       "0  [[8, 87264, 1900296], [2305, 87264, 2027791], ...  \n",
       "1  [[1616, 87264, 170725], [10774, 87264, 1431534...  "
      ]
     },
     "execution_count": 9,
     "metadata": {},
     "output_type": "execute_result"
    }
   ],
   "source": [
    "location = 'results/CLT/small_777_CLT_2021_burstable_278_87264_0.95_oracle_worst-fit_usage_756_48_0.01_0_True_2880'\n",
    "result_df, simulation_param_dict = read_result(location)\n",
    "result_df.head(2)"
   ]
  },
  {
   "cell_type": "markdown",
   "metadata": {},
   "source": [
    "# <a id='toc5_'></a>[Reading Example of oversubscription-oracle](#toc0_)"
   ]
  },
  {
   "cell_type": "markdown",
   "metadata": {},
   "source": [
    "In addition to the regular columns in result dataframes, the dataframe for the oversubscription-oracle algorithm includes an extra column: **mean**. This column reflects the total allocated CPU, based on the 'first_model' algorithm parameter, at every point in the steady state for each server. For instance, if 'first_model' is set to '2X', the column would display the sum of 2X the baseline for colocated VMs at each simulation point."
   ]
  },
  {
   "cell_type": "code",
   "execution_count": 10,
   "metadata": {},
   "outputs": [
    {
     "name": "stdout",
     "output_type": "stream",
     "text": [
      "Result for the following simulation setting has been retrieved:\n",
      " {'rand_seed': '777', 'algorithm_name': 'oversubscription-oracle', 'ds_name': '2021_burstable', 'num_arrival_vms_per_time_idx': '242', 'time_bound': '87264', 'first_model': '0.4X', 'prediction_type': 'oracle', 'lb_name': 'worst-fit_usage', 'number_of_servers': '756', 'server_capacity': '48', 'acceptable_violation': '0.01', 'retreat_num_samples': '0', 'drop': 'True', 'steady_state_time': '2880'}\n"
     ]
    },
    {
     "data": {
      "text/html": [
       "<div>\n",
       "<style scoped>\n",
       "    .dataframe tbody tr th:only-of-type {\n",
       "        vertical-align: middle;\n",
       "    }\n",
       "\n",
       "    .dataframe tbody tr th {\n",
       "        vertical-align: top;\n",
       "    }\n",
       "\n",
       "    .dataframe thead th {\n",
       "        text-align: right;\n",
       "    }\n",
       "</style>\n",
       "<table border=\"1\" class=\"dataframe\">\n",
       "  <thead>\n",
       "    <tr style=\"text-align: right;\">\n",
       "      <th></th>\n",
       "      <th>usage</th>\n",
       "      <th>mean</th>\n",
       "      <th>carry_over</th>\n",
       "      <th>deployed_times</th>\n",
       "    </tr>\n",
       "  </thead>\n",
       "  <tbody>\n",
       "    <tr>\n",
       "      <th>0</th>\n",
       "      <td>[26.00999999999998, 30.38999999999997, 21.8099...</td>\n",
       "      <td>[39.97999999999992, 39.61999999999992, 39.6199...</td>\n",
       "      <td>[0.0, 0.0, 0.0, 0.0, 0.0, 0.0, 0.0, 0.0, 0.0, ...</td>\n",
       "      <td>[[3224, 87264, 1842505], [4032, 85536, 574079]...</td>\n",
       "    </tr>\n",
       "    <tr>\n",
       "      <th>1</th>\n",
       "      <td>[24.139999999999972, 23.809999999999963, 27.00...</td>\n",
       "      <td>[37.40399999999993, 37.40399999999993, 37.4039...</td>\n",
       "      <td>[0.0, 0.0, 0.0, 0.0, 0.0, 0.0, 0.0, 0.0, 0.0, ...</td>\n",
       "      <td>[[1983, 87264, 811923], [4852, 87264, 625541],...</td>\n",
       "    </tr>\n",
       "  </tbody>\n",
       "</table>\n",
       "</div>"
      ],
      "text/plain": [
       "                                               usage  \\\n",
       "0  [26.00999999999998, 30.38999999999997, 21.8099...   \n",
       "1  [24.139999999999972, 23.809999999999963, 27.00...   \n",
       "\n",
       "                                                mean  \\\n",
       "0  [39.97999999999992, 39.61999999999992, 39.6199...   \n",
       "1  [37.40399999999993, 37.40399999999993, 37.4039...   \n",
       "\n",
       "                                          carry_over  \\\n",
       "0  [0.0, 0.0, 0.0, 0.0, 0.0, 0.0, 0.0, 0.0, 0.0, ...   \n",
       "1  [0.0, 0.0, 0.0, 0.0, 0.0, 0.0, 0.0, 0.0, 0.0, ...   \n",
       "\n",
       "                                      deployed_times  \n",
       "0  [[3224, 87264, 1842505], [4032, 85536, 574079]...  \n",
       "1  [[1983, 87264, 811923], [4852, 87264, 625541],...  "
      ]
     },
     "execution_count": 10,
     "metadata": {},
     "output_type": "execute_result"
    }
   ],
   "source": [
    "location = 'results/oversubscription-oracle/small_777_oversubscription-oracle_2021_burstable_242_87264_0.4X_oracle_worst-fit_usage_756_48_0.01_0_True_2880'\n",
    "result_df, simulation_param_dict = read_result(location)\n",
    "result_df.head(2)"
   ]
  },
  {
   "cell_type": "markdown",
   "metadata": {},
   "source": [
    "The dataframe corresponding to the rc algorithm does not contain any extra columns; therefore, we have chosen not to include it here."
   ]
  },
  {
   "cell_type": "markdown",
   "metadata": {},
   "source": [
    "# <a id='toc6_'></a>[Reporting Average Utilization and Violation Rate](#toc0_)\n",
    "\n",
    "the following function is used ot report the utilization and violation rate for each experiment result (metrics are defined in the paper in section 5.3). \n",
    "\n",
    "- Server utilization: The average CPU utilization in the steady state for each server.\n",
    "- Server capacity violation Rate: The fraction of all steady state points with a server capacity violation(BVM CPU demand exceeded server capacity) for each server."
   ]
  },
  {
   "cell_type": "code",
   "execution_count": 11,
   "metadata": {},
   "outputs": [],
   "source": [
    "def report_usage_violation(result_df, server_capacity, acceptable_violation, steady_state_time):\n",
    "        avg_usage = np.mean(result_df['usage'].apply(np.mean))*100/server_capacity\n",
    "        print('Average utilization (%) accross all servers:', avg_usage)\n",
    "        num_servers_with_severe_violation = np.count_nonzero(result_df['usage'].apply(lambda u: 1 if np.sum(u>=server_capacity)/steady_state_time >= acceptable_violation else 0))\n",
    "        print('Number of servers with violation more than {}% in the last week is {}'.format(acceptable_violation, num_servers_with_severe_violation) )\n",
    "        avg_violation_rate = np.mean(result_df['usage'].apply(lambda x: 100*len(x[x>=server_capacity])/len(x)))\n",
    "        print('Average violation rate is {}%'.format(avg_violation_rate) )\n",
    "        p99_violation_rate = np.quantile(result_df['usage'].apply(lambda x: 100*len(x[x>=server_capacity])/len(x)), 0.99)\n",
    "        print('99 percentile violation rate is {}%'.format(p99_violation_rate) )\n",
    "        max_violation_rate = np.max(result_df['usage'].apply(lambda x: 100*len(x[x>=server_capacity])/len(x)))\n",
    "        print('max violation rate is {}%'.format(max_violation_rate) )\n",
    "\n",
    "        return avg_usage, num_servers_with_severe_violation, avg_violation_rate, p99_violation_rate, max_violation_rate"
   ]
  },
  {
   "cell_type": "code",
   "execution_count": 13,
   "metadata": {},
   "outputs": [
    {
     "name": "stdout",
     "output_type": "stream",
     "text": [
      "Average utilization (%) accross all servers: 51.08046053064675\n",
      "Number of servers with violation more than 0.01% in the last week is 0\n",
      "Average violation rate is 0.00496031746031746%\n",
      "99 percentile violation rate is 0.1857638888888936%\n",
      "max violation rate is 0.5902777777777778%\n"
     ]
    },
    {
     "data": {
      "text/plain": [
       "(51.08046053064675,\n",
       " 0,\n",
       " 0.00496031746031746,\n",
       " 0.1857638888888936,\n",
       " 0.5902777777777778)"
      ]
     },
     "execution_count": 13,
     "metadata": {},
     "output_type": "execute_result"
    }
   ],
   "source": [
    "server_capacity = int(simulation_param_dict['server_capacity'])\n",
    "acceptable_violation = float(simulation_param_dict[\"acceptable_violation\"])\n",
    "steady_state_time = int(simulation_param_dict['steady_state_time'])\n",
    "report_usage_violation(result_df, server_capacity, acceptable_violation, steady_state_time)"
   ]
  },
  {
   "cell_type": "code",
   "execution_count": null,
   "metadata": {},
   "outputs": [],
   "source": []
  }
 ],
 "metadata": {
  "kernelspec": {
   "display_name": "Python 3",
   "language": "python",
   "name": "python3"
  },
  "language_info": {
   "codemirror_mode": {
    "name": "ipython",
    "version": 3
   },
   "file_extension": ".py",
   "mimetype": "text/x-python",
   "name": "python",
   "nbconvert_exporter": "python",
   "pygments_lexer": "ipython3",
   "version": "3.9.16"
  }
 },
 "nbformat": 4,
 "nbformat_minor": 2
}
