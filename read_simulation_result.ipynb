{
 "cells": [
  {
   "cell_type": "markdown",
   "metadata": {},
   "source": [
    "**Table of contents**<a id='toc0_'></a>    \n",
    "- [Importing Libraries](#toc1_)    \n",
    "- [Reading a Result](#toc2_)    \n",
    "- [Reding Example of Audible](#toc3_)    \n",
    "- [Reading Example of CLT](#toc4_)    \n",
    "- [Reading Example of oversubscription-oracle](#toc5_)    \n",
    "- [Reporting Average Utilization and Violation Rate](#toc6_)    \n",
    "\n",
    "<!-- vscode-jupyter-toc-config\n",
    "\tnumbering=false\n",
    "\tanchor=true\n",
    "\tflat=false\n",
    "\tminLevel=1\n",
    "\tmaxLevel=6\n",
    "\t/vscode-jupyter-toc-config -->\n",
    "<!-- THIS CELL WILL BE REPLACED ON TOC UPDATE. DO NOT WRITE YOUR TEXT IN THIS CELL -->"
   ]
  },
  {
   "cell_type": "markdown",
   "metadata": {},
   "source": [
    "# <a id='toc1_'></a>[Importing Libraries](#toc0_)"
   ]
  },
  {
   "cell_type": "code",
   "execution_count": 1,
   "metadata": {},
   "outputs": [],
   "source": [
    "import pandas as pd\n",
    "import numpy as np"
   ]
  },
  {
   "cell_type": "markdown",
   "metadata": {},
   "source": [
    "# <a id='toc2_'></a>[Reading a Result](#toc0_)\n",
    "\n",
    "The `result_df` dataframe stores information on server **usage** and potential **carry_over** (resulting from resource shortage) throughout the steady-state phase. Each row within the dataframe is representative of an individual server. The steady-state time frame is established at 2016, indicating that the metrics for utilization and carry-over are recorded at 2016 distinct time points towards the end of the simulation. The **deployed_time** column includes a list of tuples, each consisting of a the simulation time point when the VM was deployed, terminated and the VMID, for VMs that influence steady-state usage. This means every VM active during the entire steady state period or a portion of it is documented in this list for each server.\n",
    "\n",
    "\n",
    "Additional columns in the dataframe are algorithm-dependent. For comprehensive insights into each column unique to the algorithm, we delve into the results of executing each example in `run_simulator.ipynb`, as detailed below."
   ]
  },
  {
   "cell_type": "code",
   "execution_count": 2,
   "metadata": {},
   "outputs": [],
   "source": [
    "# reading result function\n",
    "def read_result(location):\n",
    "    simulation_param_dict = np.load(f'{location}_params.npy', allow_pickle = True).reshape(1, )[0]\n",
    "    result_df = pd.read_feather(f'{location}.feather')\n",
    "\n",
    "    print('Result for the following simulation setting has been retrieved:\\n', simulation_param_dict['params'])\n",
    "    print(f\"In this simulation {simulation_param_dict['len_dropped_vmids']} VM(s) had been rejected for placement.\")\n",
    "    return result_df, simulation_param_dict"
   ]
  },
  {
   "cell_type": "markdown",
   "metadata": {},
   "source": [
    "# <a id='toc3_'></a>[Reding Example of Audible](#toc0_)"
   ]
  },
  {
   "cell_type": "code",
   "execution_count": 3,
   "metadata": {},
   "outputs": [
    {
     "name": "stdout",
     "output_type": "stream",
     "text": [
      "Result for the following simulation setting has been retrieved:\n",
      " {'rand_seed': 1, 'algorithm_name': 'audible', 'ds_name': '2021_burstable', 'num_arrival_vms_per_time_idx': 2, 'time_bound': 86400, 'first_model': 0.95, 'prediction_type': 'est', 'lb_name': 'worst-fit_usage', 'number_of_servers': 10, 'server_capacity': 48, 'acceptable_violation': 0.01, 'retreat_num_samples': 0, 'drop': True, 'steady_state_time': 2016}\n",
      "In this simulation 0 VM(s) had been rejected for placement.\n"
     ]
    },
    {
     "data": {
      "text/html": [
       "<div>\n",
       "<style scoped>\n",
       "    .dataframe tbody tr th:only-of-type {\n",
       "        vertical-align: middle;\n",
       "    }\n",
       "\n",
       "    .dataframe tbody tr th {\n",
       "        vertical-align: top;\n",
       "    }\n",
       "\n",
       "    .dataframe thead th {\n",
       "        text-align: right;\n",
       "    }\n",
       "</style>\n",
       "<table border=\"1\" class=\"dataframe\">\n",
       "  <thead>\n",
       "    <tr style=\"text-align: right;\">\n",
       "      <th></th>\n",
       "      <th>usage</th>\n",
       "      <th>carry_over</th>\n",
       "      <th>deployed_times</th>\n",
       "    </tr>\n",
       "  </thead>\n",
       "  <tbody>\n",
       "    <tr>\n",
       "      <th>0</th>\n",
       "      <td>[16.949999999999985, 15.539999999999981, 15.29...</td>\n",
       "      <td>[0.0, 0.0, 0.0, 0.0, 0.0, 0.0, 0.0, 0.0, 0.0, ...</td>\n",
       "      <td>[[1571, 86400, 111221], [8714, 86400, 54333], ...</td>\n",
       "    </tr>\n",
       "    <tr>\n",
       "      <th>1</th>\n",
       "      <td>[16.859999999999985, 15.099999999999982, 13.67...</td>\n",
       "      <td>[0.0, 0.0, 0.0, 0.0, 0.0, 0.0, 0.0, 0.0, 0.0, ...</td>\n",
       "      <td>[[2637, 86400, 529971], [14489, 86400, 922238]...</td>\n",
       "    </tr>\n",
       "  </tbody>\n",
       "</table>\n",
       "</div>"
      ],
      "text/plain": [
       "                                               usage  \\\n",
       "0  [16.949999999999985, 15.539999999999981, 15.29...   \n",
       "1  [16.859999999999985, 15.099999999999982, 13.67...   \n",
       "\n",
       "                                          carry_over  \\\n",
       "0  [0.0, 0.0, 0.0, 0.0, 0.0, 0.0, 0.0, 0.0, 0.0, ...   \n",
       "1  [0.0, 0.0, 0.0, 0.0, 0.0, 0.0, 0.0, 0.0, 0.0, ...   \n",
       "\n",
       "                                      deployed_times  \n",
       "0  [[1571, 86400, 111221], [8714, 86400, 54333], ...  \n",
       "1  [[2637, 86400, 529971], [14489, 86400, 922238]...  "
      ]
     },
     "execution_count": 3,
     "metadata": {},
     "output_type": "execute_result"
    }
   ],
   "source": [
    "location = 'results/audible/small_1_audible_2021_burstable_2_86400_0.95_est_worst-fit_usage_10_48_0.01_0_True_2016'\n",
    "result_df, simulation_param_dict = read_result(location)\n",
    "result_df.head(2)"
   ]
  },
  {
   "cell_type": "markdown",
   "metadata": {},
   "source": [
    "# <a id='toc4_'></a>[Reading Example of CLT](#toc0_)"
   ]
  },
  {
   "cell_type": "markdown",
   "metadata": {},
   "source": [
    "Besides the standard columns present in result dataframes, the dataframe specific to the CLT algorithm features additional columns: **variance** and **mean**. These columns record the variance and mean values of the Gaussian distribution that models the aggregated server usage across each time point in the steady-state period for each of the servers."
   ]
  },
  {
   "cell_type": "code",
   "execution_count": 4,
   "metadata": {},
   "outputs": [
    {
     "name": "stdout",
     "output_type": "stream",
     "text": [
      "Result for the following simulation setting has been retrieved:\n",
      " {'rand_seed': 1, 'algorithm_name': 'CLT', 'ds_name': '2021_burstable', 'num_arrival_vms_per_time_idx': 2, 'time_bound': 86400, 'first_model': 0.95, 'prediction_type': 'est', 'lb_name': 'worst-fit_usage', 'number_of_servers': 10, 'server_capacity': 48, 'acceptable_violation': 0.01, 'retreat_num_samples': 0, 'drop': True, 'steady_state_time': 2016}\n",
      "In this simulation 0 VM(s) had been rejected for placement.\n"
     ]
    },
    {
     "data": {
      "text/html": [
       "<div>\n",
       "<style scoped>\n",
       "    .dataframe tbody tr th:only-of-type {\n",
       "        vertical-align: middle;\n",
       "    }\n",
       "\n",
       "    .dataframe tbody tr th {\n",
       "        vertical-align: top;\n",
       "    }\n",
       "\n",
       "    .dataframe thead th {\n",
       "        text-align: right;\n",
       "    }\n",
       "</style>\n",
       "<table border=\"1\" class=\"dataframe\">\n",
       "  <thead>\n",
       "    <tr style=\"text-align: right;\">\n",
       "      <th></th>\n",
       "      <th>usage</th>\n",
       "      <th>variance</th>\n",
       "      <th>mean</th>\n",
       "      <th>carry_over</th>\n",
       "      <th>deployed_times</th>\n",
       "    </tr>\n",
       "  </thead>\n",
       "  <tbody>\n",
       "    <tr>\n",
       "      <th>0</th>\n",
       "      <td>[16.949999999999985, 15.539999999999981, 15.29...</td>\n",
       "      <td>[2.517226809413581, 2.517226809413581, 2.51722...</td>\n",
       "      <td>[17.50222474747475, 17.50222474747475, 17.5022...</td>\n",
       "      <td>[0.0, 0.0, 0.0, 0.0, 0.0, 0.0, 0.0, 0.0, 0.0, ...</td>\n",
       "      <td>[[1571, 86400, 111221], [8714, 86400, 54333], ...</td>\n",
       "    </tr>\n",
       "    <tr>\n",
       "      <th>1</th>\n",
       "      <td>[16.859999999999985, 15.099999999999982, 13.67...</td>\n",
       "      <td>[3.9740902683935326, 3.9740902683935326, 3.589...</td>\n",
       "      <td>[20.561474747474755, 20.561474747474755, 19.57...</td>\n",
       "      <td>[0.0, 0.0, 0.0, 0.0, 0.0, 0.0, 0.0, 0.0, 0.0, ...</td>\n",
       "      <td>[[2637, 86400, 529971], [14489, 86400, 922238]...</td>\n",
       "    </tr>\n",
       "  </tbody>\n",
       "</table>\n",
       "</div>"
      ],
      "text/plain": [
       "                                               usage  \\\n",
       "0  [16.949999999999985, 15.539999999999981, 15.29...   \n",
       "1  [16.859999999999985, 15.099999999999982, 13.67...   \n",
       "\n",
       "                                            variance  \\\n",
       "0  [2.517226809413581, 2.517226809413581, 2.51722...   \n",
       "1  [3.9740902683935326, 3.9740902683935326, 3.589...   \n",
       "\n",
       "                                                mean  \\\n",
       "0  [17.50222474747475, 17.50222474747475, 17.5022...   \n",
       "1  [20.561474747474755, 20.561474747474755, 19.57...   \n",
       "\n",
       "                                          carry_over  \\\n",
       "0  [0.0, 0.0, 0.0, 0.0, 0.0, 0.0, 0.0, 0.0, 0.0, ...   \n",
       "1  [0.0, 0.0, 0.0, 0.0, 0.0, 0.0, 0.0, 0.0, 0.0, ...   \n",
       "\n",
       "                                      deployed_times  \n",
       "0  [[1571, 86400, 111221], [8714, 86400, 54333], ...  \n",
       "1  [[2637, 86400, 529971], [14489, 86400, 922238]...  "
      ]
     },
     "execution_count": 4,
     "metadata": {},
     "output_type": "execute_result"
    }
   ],
   "source": [
    "location = 'results/CLT/small_1_CLT_2021_burstable_2_86400_0.95_est_worst-fit_usage_10_48_0.01_0_True_2016'\n",
    "result_df, simulation_param_dict = read_result(location)\n",
    "result_df.head(2)"
   ]
  },
  {
   "cell_type": "markdown",
   "metadata": {},
   "source": [
    "# <a id='toc5_'></a>[Reading Example of oversubscription-oracle](#toc0_)"
   ]
  },
  {
   "cell_type": "markdown",
   "metadata": {},
   "source": [
    "In addition to the regular columns in result dataframes, the dataframe for the oversubscription-oracle algorithm includes an extra column: **mean**. This column reflects the total allocated CPU, based on the 'first_model' algorithm parameter, at every point in the steady state for each server. For instance, if 'first_model' is set to '2X', the column would display the sum of 2X the baseline for colocated VMs at each simulation point."
   ]
  },
  {
   "cell_type": "code",
   "execution_count": 5,
   "metadata": {},
   "outputs": [
    {
     "name": "stdout",
     "output_type": "stream",
     "text": [
      "Result for the following simulation setting has been retrieved:\n",
      " {'rand_seed': 1, 'algorithm_name': 'oversubscription-oracle', 'ds_name': '2021_burstable', 'num_arrival_vms_per_time_idx': 2, 'time_bound': 86400, 'first_model': '0.5X', 'prediction_type': 'oracle', 'lb_name': 'worst-fit_usage', 'number_of_servers': 10, 'server_capacity': 48, 'acceptable_violation': 0.01, 'retreat_num_samples': 0, 'drop': True, 'steady_state_time': 2016}\n",
      "In this simulation 0 VM(s) had been rejected for placement.\n"
     ]
    },
    {
     "data": {
      "text/html": [
       "<div>\n",
       "<style scoped>\n",
       "    .dataframe tbody tr th:only-of-type {\n",
       "        vertical-align: middle;\n",
       "    }\n",
       "\n",
       "    .dataframe tbody tr th {\n",
       "        vertical-align: top;\n",
       "    }\n",
       "\n",
       "    .dataframe thead th {\n",
       "        text-align: right;\n",
       "    }\n",
       "</style>\n",
       "<table border=\"1\" class=\"dataframe\">\n",
       "  <thead>\n",
       "    <tr style=\"text-align: right;\">\n",
       "      <th></th>\n",
       "      <th>usage</th>\n",
       "      <th>mean</th>\n",
       "      <th>carry_over</th>\n",
       "      <th>deployed_times</th>\n",
       "    </tr>\n",
       "  </thead>\n",
       "  <tbody>\n",
       "    <tr>\n",
       "      <th>0</th>\n",
       "      <td>[16.949999999999985, 15.539999999999981, 15.29...</td>\n",
       "      <td>[27.47500000000001, 27.47500000000001, 27.4750...</td>\n",
       "      <td>[0.0, 0.0, 0.0, 0.0, 0.0, 0.0, 0.0, 0.0, 0.0, ...</td>\n",
       "      <td>[[1571, 86400, 111221], [8714, 86400, 54333], ...</td>\n",
       "    </tr>\n",
       "    <tr>\n",
       "      <th>1</th>\n",
       "      <td>[16.859999999999985, 15.099999999999982, 13.67...</td>\n",
       "      <td>[33.28500000000002, 33.28500000000002, 32.8350...</td>\n",
       "      <td>[0.0, 0.0, 0.0, 0.0, 0.0, 0.0, 0.0, 0.0, 0.0, ...</td>\n",
       "      <td>[[2637, 86400, 529971], [14489, 86400, 922238]...</td>\n",
       "    </tr>\n",
       "  </tbody>\n",
       "</table>\n",
       "</div>"
      ],
      "text/plain": [
       "                                               usage  \\\n",
       "0  [16.949999999999985, 15.539999999999981, 15.29...   \n",
       "1  [16.859999999999985, 15.099999999999982, 13.67...   \n",
       "\n",
       "                                                mean  \\\n",
       "0  [27.47500000000001, 27.47500000000001, 27.4750...   \n",
       "1  [33.28500000000002, 33.28500000000002, 32.8350...   \n",
       "\n",
       "                                          carry_over  \\\n",
       "0  [0.0, 0.0, 0.0, 0.0, 0.0, 0.0, 0.0, 0.0, 0.0, ...   \n",
       "1  [0.0, 0.0, 0.0, 0.0, 0.0, 0.0, 0.0, 0.0, 0.0, ...   \n",
       "\n",
       "                                      deployed_times  \n",
       "0  [[1571, 86400, 111221], [8714, 86400, 54333], ...  \n",
       "1  [[2637, 86400, 529971], [14489, 86400, 922238]...  "
      ]
     },
     "execution_count": 5,
     "metadata": {},
     "output_type": "execute_result"
    }
   ],
   "source": [
    "location = 'results/oversubscription-oracle/small_1_oversubscription-oracle_2021_burstable_2_86400_0.5X_oracle_worst-fit_usage_10_48_0.01_0_True_2016'\n",
    "result_df, simulation_param_dict = read_result(location)\n",
    "result_df.head(2)"
   ]
  },
  {
   "cell_type": "markdown",
   "metadata": {},
   "source": [
    "The dataframe corresponding to the rc algorithm does not contain any extra columns; therefore, we have chosen not to include it here."
   ]
  },
  {
   "cell_type": "markdown",
   "metadata": {},
   "source": [
    "# <a id='toc6_'></a>[Reporting Average Utilization and Violation Rate](#toc0_)\n",
    "\n",
    "the following function is used ot report the utilization and violation rate for each experiment result (metrics are defined in the paper in section 5.3). \n",
    "\n",
    "- Server utilization: The average CPU utilization in the steady state for each server.\n",
    "- Server capacity violation Rate: The fraction of all steady state points with a server capacity violation(BVM CPU demand exceeded server capacity) for each server."
   ]
  },
  {
   "cell_type": "code",
   "execution_count": 6,
   "metadata": {},
   "outputs": [],
   "source": [
    "def report_usage_violation(result_df, server_capacity, acceptable_violation, steady_state_time):\n",
    "        avg_usage = np.mean(result_df['usage'].apply(np.mean))*100/server_capacity\n",
    "        print('Average utilization (%) accross all servers:', avg_usage)\n",
    "        num_servers_with_severe_violation = np.count_nonzero(result_df['usage'].apply(lambda u: 1 if np.sum(u>=server_capacity)/steady_state_time >= acceptable_violation else 0))\n",
    "        print('Number of servers with violation more than {}% in the last week is {}'.format(acceptable_violation, num_servers_with_severe_violation) )\n",
    "        avg_violation_rate = np.mean(result_df['usage'].apply(lambda u: 100*np.sum(u>=server_capacity)/steady_state_time))\n",
    "        print('Average violation rate is {}%'.format(avg_violation_rate) )\n",
    "        return avg_usage, num_servers_with_severe_violation, avg_violation_rate"
   ]
  },
  {
   "cell_type": "code",
   "execution_count": 7,
   "metadata": {},
   "outputs": [
    {
     "name": "stdout",
     "output_type": "stream",
     "text": [
      "Average utilization (%) accross all servers: 32.84840546461638\n",
      "Number of servers with violation more than 0.01% in the last week is 0\n",
      "Average violation rate is 0.0%\n"
     ]
    },
    {
     "data": {
      "text/plain": [
       "(32.84840546461638, 0, 0.0)"
      ]
     },
     "execution_count": 7,
     "metadata": {},
     "output_type": "execute_result"
    }
   ],
   "source": [
    "server_capacity = int(simulation_param_dict[\"params\"]['server_capacity'])\n",
    "acceptable_violation = float(simulation_param_dict[\"params\"][\"acceptable_violation\"])\n",
    "steady_state_time = int(simulation_param_dict[\"params\"]['steady_state_time'])\n",
    "report_usage_violation(result_df, server_capacity, acceptable_violation, steady_state_time)"
   ]
  }
 ],
 "metadata": {
  "kernelspec": {
   "display_name": "Python 3",
   "language": "python",
   "name": "python3"
  },
  "language_info": {
   "codemirror_mode": {
    "name": "ipython",
    "version": 3
   },
   "file_extension": ".py",
   "mimetype": "text/x-python",
   "name": "python",
   "nbconvert_exporter": "python",
   "pygments_lexer": "ipython3",
   "version": "3.9.16"
  }
 },
 "nbformat": 4,
 "nbformat_minor": 2
}
