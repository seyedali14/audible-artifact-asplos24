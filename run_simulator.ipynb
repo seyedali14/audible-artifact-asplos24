{
 "cells": [
  {
   "cell_type": "markdown",
   "metadata": {},
   "source": [
    "**Table of contents**<a id='toc0_'></a>    \n",
    "- [Graphical Interface to Set Simulation Parameters](#toc1_1_)    \n",
    "  - [Example of Running Audible](#toc1_2_)    \n",
    "  - [Example of Running CLT](#toc1_3_)    \n",
    "  - [Example of Running Resource Central](#toc1_4_)    \n",
    "  - [Example of Running oversubscription-oracle](#toc1_5_)    \n",
    "- [Simulation Parameter Values for the ASPLOS24 Paper](#toc2_)    \n",
    "\n",
    "<!-- vscode-jupyter-toc-config\n",
    "\tnumbering=false\n",
    "\tanchor=true\n",
    "\tflat=false\n",
    "\tminLevel=1\n",
    "\tmaxLevel=6\n",
    "\t/vscode-jupyter-toc-config -->\n",
    "<!-- THIS CELL WILL BE REPLACED ON TOC UPDATE. DO NOT WRITE YOUR TEXT IN THIS CELL -->"
   ]
  },
  {
   "cell_type": "markdown",
   "metadata": {},
   "source": [
    "## <a id='toc1_1_'></a>[Graphical Interface to Set Simulation Parameters](#toc0_)\n",
    "\n",
    "**Configuration dictionary**\n",
    "\n",
    "The configuration dictionary contains various parameters used for simulation settings.\n",
    "\n",
    "- `rand_seed`: Specifies the seed value to shuffle the order of arriving VMs for simulation.\n",
    "\n",
    "- `algorithm_name`: Specifies the name of the algorithm being used.\n",
    "\n",
    "- `ds_name`: Specifies the dataset name.\n",
    "\n",
    "- `num_arrival_vms_per_time_idx`: Takes an integer to specify how many VMs are placed at each simulation time point.\n",
    "\n",
    "- `time_bound`: Specifies the number of simulation time points, where each time point simulates 5 minutes in reality. 87264 reflects almost 10 months.\n",
    "\n",
    "- `first_model`: Specifies the first model to be used for each algorithm upon VM arrival based on its type. For Audible and CLT, it uses the 95th percentile, similar to what Resource Central did. For oversubscription-oracle, it could be any coefficient of the baseline.\n",
    "\n",
    "- `prediction_type`: Specifies the prediction type.\n",
    "\n",
    "- `lb_name`: Specifies the name of the load balancer. We fix this to \"worst-fit_usage\".\n",
    "\n",
    "- `number_of_servers`: Specifies the number of servers.\n",
    "\n",
    "- `server_capacity`: Specifies the number of cores in each server.\n",
    "\n",
    "- `acceptable_violation`: Specifies the target violation that each algorithm is trying to achieve.\n",
    "\n",
    "- `retreat_num_samples`: Specifies the number of simulation points to stop placing VMs on a server that had a violation in the past x simulation points. This value is zero for the reported results as it doesn't make a huge difference.\n",
    "\n",
    "- `drop`: If set to \"False\", it allows for rejecting VMs for placement. In this work, it's always set to \"true\" to ensure that algorithms always accept VMs for placement.\n",
    "\n",
    "- `steady_state_time`: Specifies the simulation time needed to reach a steady state where the results are credible. For that reason, the simulation in the last 10 days (or 2880 * 5-minute points) after running for almost 10 months is used for generating the results.\n"
   ]
  },
  {
   "cell_type": "code",
   "execution_count": 2,
   "metadata": {},
   "outputs": [],
   "source": [
    "# Configuration dictionary Example\n",
    "config_dict = {\n",
    "    \"rand_seed\": 0, \n",
    "    \"algorithm_name\": \"audible\",\n",
    "    \"ds_name\": \"2021_burstable\", \n",
    "    \"num_arrival_vms_per_time_idx\": 9, \n",
    "    \"time_bound\": 87264, \n",
    "    \"first_model\": 0.95, \n",
    "    \"prediction_type\": \"est\", \n",
    "    \"lb_name\": \"worst-fit_usage\", \n",
    "    \"number_of_servers\": 30, \n",
    "    \"server_capacity\": 48, \n",
    "    \"acceptable_violation\": 0.01, \n",
    "    \"retreat_num_samples\": 0, \n",
    "    \"drop\": True, \n",
    "    \"steady_state_time\": 2880 \n",
    "}"
   ]
  },
  {
   "cell_type": "markdown",
   "metadata": {},
   "source": [
    "GUI"
   ]
  },
  {
   "cell_type": "code",
   "execution_count": 5,
   "metadata": {},
   "outputs": [
    {
     "data": {
      "application/vnd.jupyter.widget-view+json": {
       "model_id": "a062a58acef24776a0385d4d8340762e",
       "version_major": 2,
       "version_minor": 0
      },
      "text/plain": [
       "BoundedIntText(value=1, description='Rand seed:', layout=Layout(width='400px'), max=1000000, min=1, style=Desc…"
      ]
     },
     "metadata": {},
     "output_type": "display_data"
    },
    {
     "data": {
      "application/vnd.jupyter.widget-view+json": {
       "model_id": "19c97e786b504dba9fa607a3e332835c",
       "version_major": 2,
       "version_minor": 0
      },
      "text/plain": [
       "Dropdown(description='Algorithm name:', layout=Layout(width='400px'), options=('audible', 'CLT', 'oversubscrip…"
      ]
     },
     "metadata": {},
     "output_type": "display_data"
    },
    {
     "data": {
      "application/vnd.jupyter.widget-view+json": {
       "model_id": "67883ccfc2ea41e18c029ff255f2dba5",
       "version_major": 2,
       "version_minor": 0
      },
      "text/plain": [
       "Dropdown(description='Ds name:', layout=Layout(width='400px'), options=('2021_burstable',), style=DescriptionS…"
      ]
     },
     "metadata": {},
     "output_type": "display_data"
    },
    {
     "data": {
      "application/vnd.jupyter.widget-view+json": {
       "model_id": "63fc8a0a74f445e1bd07b086508e7e3e",
       "version_major": 2,
       "version_minor": 0
      },
      "text/plain": [
       "BoundedIntText(value=1, description='Num arrival vms per time idx:', layout=Layout(width='400px'), max=1000000…"
      ]
     },
     "metadata": {},
     "output_type": "display_data"
    },
    {
     "data": {
      "application/vnd.jupyter.widget-view+json": {
       "model_id": "ccb69dcea72c42d6b0d8679ecb2806f1",
       "version_major": 2,
       "version_minor": 0
      },
      "text/plain": [
       "BoundedIntText(value=87264, description='Time bound:', layout=Layout(width='400px'), max=1000000, min=1, style…"
      ]
     },
     "metadata": {},
     "output_type": "display_data"
    },
    {
     "data": {
      "application/vnd.jupyter.widget-view+json": {
       "model_id": "6d888ee9db734372ba23454567bceb9e",
       "version_major": 2,
       "version_minor": 0
      },
      "text/plain": [
       "Dropdown(description='First model:', layout=Layout(width='400px'), options=(0.95,), style=DescriptionStyle(des…"
      ]
     },
     "metadata": {},
     "output_type": "display_data"
    },
    {
     "data": {
      "application/vnd.jupyter.widget-view+json": {
       "model_id": "288beae02e9e485eb073f7c4abd94557",
       "version_major": 2,
       "version_minor": 0
      },
      "text/plain": [
       "Dropdown(description='Prediction type:', layout=Layout(width='400px'), options=('est',), style=DescriptionStyl…"
      ]
     },
     "metadata": {},
     "output_type": "display_data"
    },
    {
     "data": {
      "application/vnd.jupyter.widget-view+json": {
       "model_id": "cdce93fdb87a4584b5538d6e480c1e4b",
       "version_major": 2,
       "version_minor": 0
      },
      "text/plain": [
       "Dropdown(description='Lb name:', layout=Layout(width='400px'), options=('worst-fit_usage',), style=Description…"
      ]
     },
     "metadata": {},
     "output_type": "display_data"
    },
    {
     "data": {
      "application/vnd.jupyter.widget-view+json": {
       "model_id": "bc6b0464315e4c66b71037d805030e34",
       "version_major": 2,
       "version_minor": 0
      },
      "text/plain": [
       "BoundedIntText(value=1, description='Number of servers:', layout=Layout(width='400px'), max=1000000, min=1, st…"
      ]
     },
     "metadata": {},
     "output_type": "display_data"
    },
    {
     "data": {
      "application/vnd.jupyter.widget-view+json": {
       "model_id": "5d4d18be6f9140e4868fb1daa3507fcb",
       "version_major": 2,
       "version_minor": 0
      },
      "text/plain": [
       "Dropdown(description='Server capacity:', index=1, layout=Layout(width='400px'), options=(36, 48, 64), style=De…"
      ]
     },
     "metadata": {},
     "output_type": "display_data"
    },
    {
     "data": {
      "application/vnd.jupyter.widget-view+json": {
       "model_id": "aa3461117a9b4f579ffa6efb5162bdfb",
       "version_major": 2,
       "version_minor": 0
      },
      "text/plain": [
       "Dropdown(description='Acceptable violation:', index=2, layout=Layout(width='400px'), options=(0.0025, 0.005, 0…"
      ]
     },
     "metadata": {},
     "output_type": "display_data"
    },
    {
     "data": {
      "application/vnd.jupyter.widget-view+json": {
       "model_id": "3ebcff32649e447d969900708eca821d",
       "version_major": 2,
       "version_minor": 0
      },
      "text/plain": [
       "IntText(value=0, description='Retreat num samples:', disabled=True, layout=Layout(width='400px'), style=Descri…"
      ]
     },
     "metadata": {},
     "output_type": "display_data"
    },
    {
     "data": {
      "application/vnd.jupyter.widget-view+json": {
       "model_id": "30b2ddb000ce47fdb0c6cbc984034b27",
       "version_major": 2,
       "version_minor": 0
      },
      "text/plain": [
       "Dropdown(description='Drop:', layout=Layout(width='400px'), options=(True, False), style=DescriptionStyle(desc…"
      ]
     },
     "metadata": {},
     "output_type": "display_data"
    },
    {
     "data": {
      "application/vnd.jupyter.widget-view+json": {
       "model_id": "d03ceaba14464534bc7a24eb887be56a",
       "version_major": 2,
       "version_minor": 0
      },
      "text/plain": [
       "IntText(value=2880, description='Steady state time:', disabled=True, layout=Layout(width='400px'), style=Descr…"
      ]
     },
     "metadata": {},
     "output_type": "display_data"
    },
    {
     "data": {
      "application/vnd.jupyter.widget-view+json": {
       "model_id": "36ce56c3f05b4240b67b8174cd0e4567",
       "version_major": 2,
       "version_minor": 0
      },
      "text/plain": [
       "Button(description='Save Simulation Param Dict!', layout=Layout(width='200px'), style=ButtonStyle())"
      ]
     },
     "metadata": {},
     "output_type": "display_data"
    },
    {
     "name": "stdout",
     "output_type": "stream",
     "text": [
      "Configuration saved to simulation_param_files/1_audible_2021_burstable_1_87264_0.95_est_worst-fit_usage_10_48_0.01_0_True_2880.json\n",
      "Configuration saved to simulation_param_files/1_CLT_2021_burstable_1_87264_0.95_oracle_worst-fit_usage_10_48_0.01_0_True_2880.json\n",
      "Configuration saved to simulation_param_files/1_rc_2021_burstable_1_87264_rc-0.95_oracle_worst-fit_usage_10_48_0.01_0_True_2880.json\n",
      "Configuration saved to simulation_param_files/1_oversubscription-oracle_2021_burstable_1_87264_2X_oracle_worst-fit_usage_10_48_0.01_0_True_2880.json\n"
     ]
    }
   ],
   "source": [
    "import os\n",
    "import json\n",
    "from ipywidgets import widgets\n",
    "from IPython.display import display\n",
    "\n",
    "# Initial widget options and default values\n",
    "widget_options = {\n",
    "    \"server_capacity\": [36, 48, 64],\n",
    "    \"acceptable_violation\": [0.0025, 0.005, 0.01, 0.02, 0.03, 0.4, 0.05],\n",
    "    \"drop\": [True, False],\n",
    "    \"ds_name\": ['2021_burstable'],\n",
    "    \"first_model\": {'audible': [0.95], 'CLT': [0.95], 'oversubscription-oracle': ['0.1X', '0.2X', '0.3X', '0.4X', '0.5X', '0.6X', '0.7X', '0.8X', '0.9X', '1.1X', '1.3X', '2X'], 'rc': ['rc-0.95']},\n",
    "    \"prediction_type\": {'audible': ['est'], 'CLT': ['est', 'oracle'], 'oversubscription-oracle': ['oracle'], 'rc': ['oracle']},\n",
    "    \"lb_name\": ['worst-fit_usage'],\n",
    "    \"algorithm_name\": ['audible', 'CLT', 'oversubscription-oracle', 'rc']\n",
    "}\n",
    "\n",
    "all_widgets = {}\n",
    "for key in config_dict:\n",
    "    style = {'description_width': 'initial'}\n",
    "    if key in widget_options:\n",
    "        all_widgets[key] = widgets.Dropdown(options=widget_options[key] if key not in ['first_model', 'prediction_type'] else widget_options[key][config_dict[\"algorithm_name\"]], \n",
    "                                            value=config_dict[key], \n",
    "                                            description=key.replace('_', ' ').capitalize() + ':', style = style)\n",
    "    elif key in [\"rand_seed\", \"num_arrival_vms_per_time_idx\", \"number_of_servers\"]:\n",
    "        all_widgets[key] = widgets.BoundedIntText(value = 1, min=1, max=1000000, description = key.replace('_', ' ').capitalize() + ':', style = style)\n",
    "    elif key in [\"time_bound\"]:\n",
    "        all_widgets[key] = widgets.BoundedIntText(value = 87264, min=1, max=1000000, description = key.replace('_', ' ').capitalize() + ':', style = style)\n",
    "    else:\n",
    "        all_widgets[key] = widgets.IntText(config_dict[key], description = key.replace('_', ' ').capitalize() + ':', disabled = True, style = style)\n",
    "    \n",
    "\n",
    "# Dynamic update functions\n",
    "def update_first_model_options(*args):\n",
    "    all_widgets['first_model'].options = widget_options['first_model'][all_widgets['algorithm_name'].value]\n",
    "    if all_widgets['first_model'].value not in all_widgets['first_model'].options:\n",
    "        all_widgets['first_model'].value = all_widgets['first_model'].options[0]\n",
    "\n",
    "def update_prediction_type_options(*args):\n",
    "    all_widgets['prediction_type'].options = widget_options['prediction_type'][all_widgets['algorithm_name'].value]\n",
    "    if all_widgets['prediction_type'].value not in all_widgets['prediction_type'].options:\n",
    "        all_widgets['prediction_type'].value = all_widgets['prediction_type'].options[0]\n",
    "\n",
    "# Set observers\n",
    "all_widgets['algorithm_name'].observe(update_first_model_options, 'value')\n",
    "all_widgets['algorithm_name'].observe(update_prediction_type_options, 'value')\n",
    "\n",
    "# Call update functions to set initial state correctly\n",
    "update_first_model_options()\n",
    "update_prediction_type_options()\n",
    "\n",
    "# Function to save the widget values as a JSON file\n",
    "def save_json_button_clicked(b):\n",
    "    settings_dict = {key: widget.value for key, widget in all_widgets.items()}\n",
    "    # print(settings_dict)\n",
    "    fn = '_'.join([str(settings_dict[i]) for i in settings_dict]) \n",
    "    fn += '.json'\n",
    "    file_path = f'simulation_param_files/{fn}'\n",
    "    os.makedirs('simulation_param_files', exist_ok=True)\n",
    "    with open(file_path, 'w') as json_file:\n",
    "        json.dump(settings_dict, json_file, indent=4)\n",
    "    print(f\"Configuration saved to {file_path}\")\n",
    "\n",
    "# Generate Simulation Dict and Save it\n",
    "gen_json_button = widgets.Button(description='Save Simulation Param Dict!')\n",
    "gen_json_button.layout.width = '200px'\n",
    "gen_json_button.on_click(save_json_button_clicked)\n",
    "\n",
    "# Display all widgets and the button\n",
    "widget_width = '400px'  # Adjust the width as needed)\n",
    "\n",
    "# Set layout width for each widget\n",
    "for widget in all_widgets.values():\n",
    "    widget.layout.width = widget_width\n",
    "    display(widget)\n",
    "display(gen_json_button)\n"
   ]
  },
  {
   "cell_type": "markdown",
   "metadata": {},
   "source": [
    "## <a id='toc1_2_'></a>[Example of Running Audible](#toc0_)"
   ]
  },
  {
   "cell_type": "code",
   "execution_count": 6,
   "metadata": {},
   "outputs": [
    {
     "name": "stdout",
     "output_type": "stream",
     "text": [
      "Running  {'rand_seed': 1, 'algorithm_name': 'audible', 'ds_name': '2021_burstable', 'num_arrival_vms_per_time_idx': 1, 'time_bound': 87264, 'first_model': 0.95, 'prediction_type': 'est', 'lb_name': 'worst-fit_usage', 'number_of_servers': 10, 'server_capacity': 48, 'acceptable_violation': 0.01, 'retreat_num_samples': 0, 'drop': True, 'steady_state_time': 2880}\n",
      "Reading data files took 0:00:07.466065\n"
     ]
    },
    {
     "name": "stderr",
     "output_type": "stream",
     "text": [
      "100%|██████████| 87264/87264 [00:09<00:00, 9165.31it/s] \n"
     ]
    },
    {
     "name": "stdout",
     "output_type": "stream",
     "text": [
      "length of dropped_vmids for arrival  1  is  0\n",
      "Average utilization (%) accross all servers: 17.486041666666658\n",
      "Number of servers with violation more than 1.0% in the last week is 0\n"
     ]
    }
   ],
   "source": [
    "%run src/main.py \"simulation_param_files/1_audible_2021_burstable_1_87264_0.95_est_worst-fit_usage_10_48_0.01_0_True_2880.json\""
   ]
  },
  {
   "cell_type": "markdown",
   "metadata": {},
   "source": [
    "## <a id='toc1_3_'></a>[Example of Running CLT](#toc0_)"
   ]
  },
  {
   "cell_type": "code",
   "execution_count": 7,
   "metadata": {},
   "outputs": [
    {
     "name": "stdout",
     "output_type": "stream",
     "text": [
      "Running  {'rand_seed': 1, 'algorithm_name': 'CLT', 'ds_name': '2021_burstable', 'num_arrival_vms_per_time_idx': 1, 'time_bound': 87264, 'first_model': 0.95, 'prediction_type': 'oracle', 'lb_name': 'worst-fit_usage', 'number_of_servers': 10, 'server_capacity': 48, 'acceptable_violation': 0.01, 'retreat_num_samples': 0, 'drop': True, 'steady_state_time': 2880}\n",
      "Reading data files took 0:00:04.192202\n"
     ]
    },
    {
     "name": "stderr",
     "output_type": "stream",
     "text": [
      "100%|██████████| 87264/87264 [00:05<00:00, 15510.02it/s]\n"
     ]
    },
    {
     "name": "stdout",
     "output_type": "stream",
     "text": [
      "length of dropped_vmids for arrival  1  is  0\n",
      "Average utilization (%) accross all servers: 17.486041666666658\n",
      "Number of servers with violation more than 1.0% in the last week is 0\n"
     ]
    }
   ],
   "source": [
    "%run src/main.py \"simulation_param_files/1_CLT_2021_burstable_1_87264_0.95_oracle_worst-fit_usage_10_48_0.01_0_True_2880.json\""
   ]
  },
  {
   "cell_type": "markdown",
   "metadata": {},
   "source": [
    "## <a id='toc1_4_'></a>[Example of Running Resource Central](#toc0_)"
   ]
  },
  {
   "cell_type": "code",
   "execution_count": 8,
   "metadata": {},
   "outputs": [
    {
     "name": "stdout",
     "output_type": "stream",
     "text": [
      "Running  {'rand_seed': 1, 'algorithm_name': 'rc', 'ds_name': '2021_burstable', 'num_arrival_vms_per_time_idx': 1, 'time_bound': 87264, 'first_model': 'rc-0.95', 'prediction_type': 'oracle', 'lb_name': 'worst-fit_usage', 'number_of_servers': 10, 'server_capacity': 48, 'acceptable_violation': 0.01, 'retreat_num_samples': 0, 'drop': True, 'steady_state_time': 2880}\n",
      "Reading data files took 0:00:03.995031\n"
     ]
    },
    {
     "name": "stderr",
     "output_type": "stream",
     "text": [
      "100%|██████████| 87264/87264 [00:01<00:00, 48321.42it/s]\n"
     ]
    },
    {
     "name": "stdout",
     "output_type": "stream",
     "text": [
      "length of dropped_vmids for arrival  1  is  0\n",
      "Average utilization (%) accross all servers: 17.486041666666658\n",
      "Number of servers with violation more than 1.0% in the last week is 0\n"
     ]
    }
   ],
   "source": [
    "%run src/main.py \"simulation_param_files/1_rc_2021_burstable_1_87264_rc-0.95_oracle_worst-fit_usage_10_48_0.01_0_True_2880.json\""
   ]
  },
  {
   "cell_type": "markdown",
   "metadata": {},
   "source": [
    "## <a id='toc1_5_'></a>[Example of Running oversubscription-oracle](#toc0_)"
   ]
  },
  {
   "cell_type": "code",
   "execution_count": 9,
   "metadata": {},
   "outputs": [
    {
     "name": "stdout",
     "output_type": "stream",
     "text": [
      "Running  {'rand_seed': 1, 'algorithm_name': 'oversubscription-oracle', 'ds_name': '2021_burstable', 'num_arrival_vms_per_time_idx': 1, 'time_bound': 87264, 'first_model': '2X', 'prediction_type': 'oracle', 'lb_name': 'worst-fit_usage', 'number_of_servers': 10, 'server_capacity': 48, 'acceptable_violation': 0.01, 'retreat_num_samples': 0, 'drop': True, 'steady_state_time': 2880}\n",
      "Reading data files took 0:00:03.944521\n"
     ]
    },
    {
     "name": "stderr",
     "output_type": "stream",
     "text": [
      "  0%|          | 0/87264 [00:00<?, ?it/s]/usr/local/lib/python3.9/site-packages/numpy/core/fromnumeric.py:3419: RuntimeWarning: Mean of empty slice.\n",
      "  return _methods._mean(a, axis=axis, dtype=dtype,\n",
      "/usr/local/lib/python3.9/site-packages/numpy/core/_methods.py:188: RuntimeWarning: invalid value encountered in double_scalars\n",
      "  ret = ret.dtype.type(ret / rcount)\n",
      " 15%|█▌        | 13233/87264 [00:00<00:01, 42083.13it/s]\n"
     ]
    },
    {
     "name": "stdout",
     "output_type": "stream",
     "text": [
      "Rejecting a VM at time 13233\n"
     ]
    }
   ],
   "source": [
    "%run src/main.py \"simulation_param_files/1_oversubscription-oracle_2021_burstable_1_87264_2X_oracle_worst-fit_usage_10_48_0.01_0_True_2880.json\""
   ]
  },
  {
   "cell_type": "markdown",
   "metadata": {},
   "source": [
    "# <a id='toc2_'></a>[Simulation Parameter Values for the ASPLOS24 Paper](#toc0_)\n",
    "\n",
    "The results detailed in the paper stem from experiments executed with simulation parameters specified in the `all_sim_params` list. It's important to note the extensive computational resources needed for these large-scale experiments. To facilitate running these simulations, we utilized Azure Batch.\n",
    "\n",
    "| Configuration Key                         | Description                                                                                             |\n",
    "|-------------------------------------------|---------------------------------------------------------------------------------------------------------|\n",
    "| `rand_seed`                               | 0, 1, 2, 3, ...                                                                                         |\n",
    "| `algorithm_name`                          | \"audible\", \"oversubscription oracle\", \"CLT\", or \"rc\"                                                    |\n",
    "| `ds_name`                                 | \"2021_burstable\" or \"2021_regular\"                                                                      |\n",
    "| `num_arrival_vms_per_time_idx`            | A positive value up to hundreds per simulation time point, varies depending on the algorithm            |\n",
    "| `time_bound`                              | 87264 (equivalent to almost 10 months of simulation) \\*                                                        |\n",
    "| `first_model`                             | 95th percentile conservative model for \"audible\" and \"clt\", variable \"Xbaseline\" (e.g., \"0.1X\", \"0.2X\", \"0.3X\", ...) for \"oversubscription oracle\", \"rc-0.95\" for \"rc\" |\n",
    "| `prediction_type`                         | \"Oracle\" or \"est\"                                                                                       |\n",
    "| `lb_name`                                 | Load balance is worst-fit according to server usages \\*                                                 |\n",
    "| `(number_of_servers, server_capacity)`    | (1008, 36), (756, 48), (567, 64)                                                                        |\n",
    "| `acceptable_violation`                    | 0.005, 0.01, 0.025, and 0.05                                                                            |\n",
    "| `retreat_num_samples`                     | No retreat upon violation \\*                                                                            |\n",
    "| `drop`                                    | No rejection \\*                                                                                         |\n",
    "| `steady_state_time`                       | Constant 10 days or 2880 \\*                                                                            |\n",
    "\n",
    "\\* Constant across simulations"
   ]
  },
  {
   "cell_type": "code",
   "execution_count": 7,
   "metadata": {},
   "outputs": [
    {
     "name": "stdout",
     "output_type": "stream",
     "text": [
      "1497600 simulation configuration has generated!\n"
     ]
    }
   ],
   "source": [
    "from itertools import product\n",
    "# Import simulator module\n",
    "for module in [\"simulator.py\"]:\n",
    "    temp =  'src/' + module\n",
    "    %run $temp\n",
    "\n",
    "# Define parameters\n",
    "random_seeds = range(10)\n",
    "dataset_names = ['2021_burstable', '2021_regular']\n",
    "algorithms = ['audible', \"CLT\", \"rc\", \"oversubscription-oracle\"]\n",
    "server_configurations = [(1008, 36), (756, 48), (567, 36)]\n",
    "violation_thresholds = [0.005, 0.01, 0.025, 0.05]\n",
    "arrival_rates = range(10, 400)\n",
    "\n",
    "\n",
    "# Generate configurations\n",
    "configurations = product(\n",
    "    random_seeds,\n",
    "    dataset_names,\n",
    "    algorithms,\n",
    "    server_configurations,\n",
    "    violation_thresholds,\n",
    "    arrival_rates\n",
    ")\n",
    "\n",
    "all_sim_params = []\n",
    "results = {}\n",
    "# Iterate over configurations\n",
    "for rs, ds_name, algo, (num_server, server_cap), viol_th, arr_rate in configurations:\n",
    "    for first_model in widget_options['first_model'][algo]:\n",
    "        for prediction_type in widget_options[\"prediction_type\"][algo]:\n",
    "            config_dict = {\n",
    "                \"rand_seed\": rs, \n",
    "                \"algorithm_name\": algo,\n",
    "                \"ds_name\": ds_name, \n",
    "                \"num_arrival_vms_per_time_idx\": arr_rate, \n",
    "                \"time_bound\": 87264, \n",
    "                \"first_model\": first_model, \n",
    "                \"prediction_type\": prediction_type, \n",
    "                \"lb_name\": \"worst-fit_usage\", \n",
    "                \"number_of_servers\": num_server, \n",
    "                \"server_capacity\": server_cap, \n",
    "                \"acceptable_violation\": viol_th, \n",
    "                \"retreat_num_samples\": 0, \n",
    "                \"drop\": True, \n",
    "                \"steady_state_time\": 2880 \n",
    "            }\n",
    "            all_sim_params.append(config_dict)\n",
    "            # Execute the simulator using this configuration dictionary. (Activate the code line at your discretion.)\n",
    "            # results['_'.join([str(i) for i in config_dict.values()])] = Simulation(all_sim_params[0], {}).run_simulation() # call on the simulator with the current config\n",
    "\n",
    "print(f'{len(all_sim_params)} simulation configuration has generated!')"
   ]
  },
  {
   "cell_type": "markdown",
   "metadata": {},
   "source": [
    "To avoid the excessive generation of simulation parameter dictionaries for every possible VM arrival rate, we've revised the preceding code to identify the highest arrival rate each algorithm can support through a binary search method. This adjustment considerably decreases the number of simulations needed. The code has been meticulously commented below to prompt users to employ it with caution, considering it still demands a considerable amount of computational resources."
   ]
  },
  {
   "cell_type": "markdown",
   "metadata": {},
   "source": [
    "```\n",
    "for module in [\"simulator.py\"]:\n",
    "    temp =  'src/' + module\n",
    "    %run $temp\n",
    "        \n",
    "def find_max_arr_rate(initial_config, arrival_rates=range(1, 400)):\n",
    "    # at most it will take np.ceil(np.log2(max(arrival_rates))) steps to find it!\n",
    "    left, right = min(arrival_rates), max(arrival_rates)  # Assuming arrival_rates is range(1, 405)\n",
    "    best_rate = None\n",
    "    history = {}\n",
    "    while left <= right:\n",
    "        mid = (left + right) // 2\n",
    "        current_config = initial_config.copy()\n",
    "        current_config['num_arrival_vms_per_time_idx'] = mid\n",
    "        result = Simulation(current_config, {}).run_simulation()\n",
    "        history[mid] = result\n",
    "        if result == 'succeed':\n",
    "            best_rate = mid  # Found a working rate, try to find a higher one\n",
    "            left = mid + 1\n",
    "        else:\n",
    "            right = mid - 1  # Failed, reduce the search space\n",
    "        print(history)\n",
    "    return best_rate\n",
    "\n",
    "# Generate configurations without including arrival_rates\n",
    "configurations = product(\n",
    "    random_seeds,\n",
    "    dataset_names,\n",
    "    algorithms,\n",
    "    server_configurations,\n",
    "    violation_thresholds\n",
    ")\n",
    "\n",
    "all_sim_params = []\n",
    "# Iterate over configurations to find the max arr_rate\n",
    "for rs, ds_name, algo, (num_server, server_cap), viol_th in configurations:\n",
    "    for first_model in widget_options['first_model'][algo]:\n",
    "        for prediction_type in widget_options[\"prediction_type\"][algo]:\n",
    "            initial_config = {\n",
    "                \"rand_seed\": rs,\n",
    "                \"algorithm_name\": algo,\n",
    "                \"ds_name\": ds_name,\n",
    "                \"time_bound\": 87264,\n",
    "                \"first_model\": first_model,\n",
    "                \"prediction_type\": prediction_type,\n",
    "                \"lb_name\": \"worst-fit_usage\",\n",
    "                \"number_of_servers\": num_server,\n",
    "                \"server_capacity\": server_cap,\n",
    "                \"acceptable_violation\": viol_th,\n",
    "                \"retreat_num_samples\": 0,\n",
    "                \"drop\": True,\n",
    "                \"steady_state_time\": 2880\n",
    "            }\n",
    "            \n",
    "            # Find the max arr_rate for this configuration\n",
    "            max_arr_rate = find_max_arr_rate(initial_config)\n",
    "            initial_config['num_arrival_vms_per_time_idx'] = max_arr_rate\n",
    "            all_sim_params.append(initial_config) # for each setup record the max VM arrival it supports\n",
    "\n",
    "\n",
    "```"
   ]
  }
 ],
 "metadata": {
  "kernelspec": {
   "display_name": "Python 3",
   "language": "python",
   "name": "python3"
  },
  "language_info": {
   "codemirror_mode": {
    "name": "ipython",
    "version": 3
   },
   "file_extension": ".py",
   "mimetype": "text/x-python",
   "name": "python",
   "nbconvert_exporter": "python",
   "pygments_lexer": "ipython3",
   "version": "3.9.16"
  }
 },
 "nbformat": 4,
 "nbformat_minor": 2
}
