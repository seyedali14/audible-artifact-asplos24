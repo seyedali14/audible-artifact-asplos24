{
 "cells": [
  {
   "cell_type": "markdown",
   "metadata": {},
   "source": [
    "**Table of contents**<a id='toc0_'></a>      \n",
    "- [Simulation Examples](#toc3_)    \n",
    "  - [Graphical Interface to Set Simulation Parameters](#toc3_1_)    \n",
    "  - [Generating a Configuration Dictionary](#toc3_2_)    \n",
    "  - [Example of Running Audible](#toc3_3_)    \n",
    "  - [Example of Running Gaussian](#toc3_4_)    \n",
    "  - [Example of Running Resource Central](#toc3_5_)    \n",
    "  - [Example of Running Coefficient of Baseline](#toc3_6_)    "
   ]
  },
  {
   "cell_type": "code",
   "execution_count": null,
   "metadata": {},
   "outputs": [],
   "source": []
  },
  {
   "cell_type": "markdown",
   "metadata": {},
   "source": [
    "## <a id='toc3_1_'></a>[Graphical Interface to Set Simulation Parameters](#toc0_)\n",
    "\n",
    "**Configuration dictionary**\n",
    "\n",
    "The configuration dictionary contains various parameters used for simulation settings.\n",
    "\n",
    "- `rand_seed`: Specifies the seed value to shuffle the order of arriving VMs for simulation.\n",
    "\n",
    "- `algorithm_name`: Specifies the name of the algorithm being used.\n",
    "\n",
    "- `ds_name`: Specifies the dataset name.\n",
    "\n",
    "- `num_arrival_vms_per_time_idx`: Takes an integer to specify how many VMs are placed at each simulation time point.\n",
    "\n",
    "- `time_bound`: Specifies the number of simulation time points, where each time point simulates 5 minutes in reality. 86400 reflects 10 months.\n",
    "\n",
    "- `first_model`: Specifies the first model to be used for each algorithm upon VM arrival based on its type. For Audible and Gaussian, it uses the 95th percentile, similar to what Resource Central did. For baseline coef, it could be any coefficient of the baseline.\n",
    "\n",
    "- `prediction_type`: Specifies the prediction type.\n",
    "\n",
    "- `lb_name`: Specifies the name of the load balancer. We fix this to \"worst-fit_usage\".\n",
    "\n",
    "- `number_of_servers`: Specifies the number of servers.\n",
    "\n",
    "- `server_capacity`: Specifies the number of cores in each server.\n",
    "\n",
    "- `acceptable_violation`: Specifies the target violation that each algorithm is trying to achieve.\n",
    "\n",
    "- `retreat_num_samples`: Specifies the number of simulation points to stop placing VMs on a server that had a violation in the past x simulation points. This value is zero for the reported results as it doesn't make a huge difference.\n",
    "\n",
    "- `drop`: If set to \"False\", it allows for rejecting VMs for placement. In this work, it's always set to \"true\" to ensure that algorithms always accept VMs for placement.\n",
    "\n",
    "- `steady_state_time`: Specifies the simulation time needed to reach a steady state where the results are credible. For that reason, the simulation in the last week (or 2016 * 5-minute points) after running for almost 10 months is used for generating the results.\n"
   ]
  },
  {
   "cell_type": "code",
   "execution_count": 1,
   "metadata": {},
   "outputs": [],
   "source": [
    "# Configuration dictionary Example\n",
    "config_dict = {\n",
    "    \"rand_seed\": 0, \n",
    "    \"algorithm_name\": \"audible\",\n",
    "    \"ds_name\": \"2021_burstable\", \n",
    "    \"num_arrival_vms_per_time_idx\": 9, \n",
    "    \"time_bound\": 86400, \n",
    "    \"first_model\": 0.95, \n",
    "    \"prediction_type\": \"est\", \n",
    "    \"lb_name\": \"worst-fit_usage\", \n",
    "    \"number_of_servers\": 30, \n",
    "    \"server_capacity\": 48, \n",
    "    \"acceptable_violation\": 0.01, \n",
    "    \"retreat_num_samples\": 0, \n",
    "    \"drop\": True, \n",
    "    \"steady_state_time\": 2016 \n",
    "}"
   ]
  },
  {
   "cell_type": "code",
   "execution_count": 2,
   "metadata": {},
   "outputs": [
    {
     "data": {
      "application/vnd.jupyter.widget-view+json": {
       "model_id": "eff76a4a74304cdeb3ce37d4f461290d",
       "version_major": 2,
       "version_minor": 0
      },
      "text/plain": [
       "BoundedIntText(value=1, description='Rand seed:', layout=Layout(width='600px'), max=1000000, min=1, style=Desc…"
      ]
     },
     "metadata": {},
     "output_type": "display_data"
    },
    {
     "data": {
      "application/vnd.jupyter.widget-view+json": {
       "model_id": "ca88f522b38742ffb1c72caa109ebe5e",
       "version_major": 2,
       "version_minor": 0
      },
      "text/plain": [
       "Dropdown(description='Algorithm name:', layout=Layout(width='600px'), options=('audible', 'gaussian', 'baselin…"
      ]
     },
     "metadata": {},
     "output_type": "display_data"
    },
    {
     "data": {
      "application/vnd.jupyter.widget-view+json": {
       "model_id": "4f4d1e6221324b9cb99da4feb57a8a51",
       "version_major": 2,
       "version_minor": 0
      },
      "text/plain": [
       "Dropdown(description='Ds name:', layout=Layout(width='600px'), options=('2021_burstable',), style=DescriptionS…"
      ]
     },
     "metadata": {},
     "output_type": "display_data"
    },
    {
     "data": {
      "application/vnd.jupyter.widget-view+json": {
       "model_id": "61242a3d29934e0cb571dc41f21fc0c1",
       "version_major": 2,
       "version_minor": 0
      },
      "text/plain": [
       "BoundedIntText(value=1, description='Num arrival vms per time idx:', layout=Layout(width='600px'), max=1000000…"
      ]
     },
     "metadata": {},
     "output_type": "display_data"
    },
    {
     "data": {
      "application/vnd.jupyter.widget-view+json": {
       "model_id": "20c1049a432e4b7784bf5d857a3cda62",
       "version_major": 2,
       "version_minor": 0
      },
      "text/plain": [
       "BoundedIntText(value=86400, description='Time bound:', layout=Layout(width='600px'), max=1000000, min=1, style…"
      ]
     },
     "metadata": {},
     "output_type": "display_data"
    },
    {
     "data": {
      "application/vnd.jupyter.widget-view+json": {
       "model_id": "3cd99514cff748b98fcef7026b290812",
       "version_major": 2,
       "version_minor": 0
      },
      "text/plain": [
       "Dropdown(description='First model:', layout=Layout(width='600px'), options=(0.95,), style=DescriptionStyle(des…"
      ]
     },
     "metadata": {},
     "output_type": "display_data"
    },
    {
     "data": {
      "application/vnd.jupyter.widget-view+json": {
       "model_id": "0ce52e57d8174be58e9726c1a9065190",
       "version_major": 2,
       "version_minor": 0
      },
      "text/plain": [
       "Dropdown(description='Prediction type:', layout=Layout(width='600px'), options=('est',), style=DescriptionStyl…"
      ]
     },
     "metadata": {},
     "output_type": "display_data"
    },
    {
     "data": {
      "application/vnd.jupyter.widget-view+json": {
       "model_id": "baf088a0afd742fca90260e12151382e",
       "version_major": 2,
       "version_minor": 0
      },
      "text/plain": [
       "Dropdown(description='Lb name:', layout=Layout(width='600px'), options=('worst-fit_usage',), style=Description…"
      ]
     },
     "metadata": {},
     "output_type": "display_data"
    },
    {
     "data": {
      "application/vnd.jupyter.widget-view+json": {
       "model_id": "5815f01f7d314fa984c2dfe2e7573f6f",
       "version_major": 2,
       "version_minor": 0
      },
      "text/plain": [
       "BoundedIntText(value=1, description='Number of servers:', layout=Layout(width='600px'), max=1000000, min=1, st…"
      ]
     },
     "metadata": {},
     "output_type": "display_data"
    },
    {
     "data": {
      "application/vnd.jupyter.widget-view+json": {
       "model_id": "29978009be9c4ba68499ccfef798a34e",
       "version_major": 2,
       "version_minor": 0
      },
      "text/plain": [
       "Dropdown(description='Server capacity:', index=1, layout=Layout(width='600px'), options=(36, 48, 64), style=De…"
      ]
     },
     "metadata": {},
     "output_type": "display_data"
    },
    {
     "data": {
      "application/vnd.jupyter.widget-view+json": {
       "model_id": "77bb158e91b7463d856bef45390d5ca8",
       "version_major": 2,
       "version_minor": 0
      },
      "text/plain": [
       "Dropdown(description='Acceptable violation:', index=2, layout=Layout(width='600px'), options=(0.0025, 0.005, 0…"
      ]
     },
     "metadata": {},
     "output_type": "display_data"
    },
    {
     "data": {
      "application/vnd.jupyter.widget-view+json": {
       "model_id": "51660ec5824746a49798251f60f9d9f6",
       "version_major": 2,
       "version_minor": 0
      },
      "text/plain": [
       "IntText(value=0, description='Retreat num samples:', disabled=True, layout=Layout(width='600px'), style=Descri…"
      ]
     },
     "metadata": {},
     "output_type": "display_data"
    },
    {
     "data": {
      "application/vnd.jupyter.widget-view+json": {
       "model_id": "4f1eecfa16484241a5f4a793949e1d14",
       "version_major": 2,
       "version_minor": 0
      },
      "text/plain": [
       "Dropdown(description='Drop:', layout=Layout(width='600px'), options=(True, False), style=DescriptionStyle(desc…"
      ]
     },
     "metadata": {},
     "output_type": "display_data"
    },
    {
     "data": {
      "application/vnd.jupyter.widget-view+json": {
       "model_id": "c02f7c3929d2414ca49cd7b5e8b544d7",
       "version_major": 2,
       "version_minor": 0
      },
      "text/plain": [
       "IntText(value=2016, description='Steady state time:', disabled=True, layout=Layout(width='600px'), style=Descr…"
      ]
     },
     "metadata": {},
     "output_type": "display_data"
    },
    {
     "data": {
      "application/vnd.jupyter.widget-view+json": {
       "model_id": "2f5c2ea733eb46f7aa8f62abe449f309",
       "version_major": 2,
       "version_minor": 0
      },
      "text/plain": [
       "Button(description='Save Simulation Param Dict!', layout=Layout(width='200px'), style=ButtonStyle())"
      ]
     },
     "metadata": {},
     "output_type": "display_data"
    },
    {
     "name": "stdout",
     "output_type": "stream",
     "text": [
      "Configuration saved to simulation_param_files/1_audible_2021_burstable_2_86400_0.95_est_worst-fit_usage_10_48_0.01_0_True_2016.json\n",
      "Configuration saved to simulation_param_files/1_gaussian_2021_burstable_2_86400_0.95_est_worst-fit_usage_10_48_0.01_0_True_2016.json\n",
      "Configuration saved to simulation_param_files/1_rc_2021_burstable_2_86400_rc-0.95_oracle_worst-fit_usage_10_48_0.01_0_True_2016.json\n",
      "Configuration saved to simulation_param_files/1_baseline-coef_2021_burstable_2_86400_0.5X_oracle_worst-fit_usage_10_48_0.01_0_True_2016.json\n"
     ]
    }
   ],
   "source": [
    "import os\n",
    "import json\n",
    "from ipywidgets import widgets\n",
    "from IPython.display import display\n",
    "\n",
    "# Initial widget options and default values\n",
    "widget_options = {\n",
    "    \"server_capacity\": [36, 48, 64],\n",
    "    \"acceptable_violation\": [0.0025, 0.005, 0.01, 0.02, 0.03, 0.4, 0.05],\n",
    "    \"drop\": [True, False],\n",
    "    \"ds_name\": ['2021_burstable'],\n",
    "    \"first_model\": {'audible': [0.95], 'gaussian': [0.95], 'baseline-coef': ['0.1X', '0.2X', '0.3X', '0.4X', '0.5X', '0.6X', '0.7X', '0.8X', '0.9X', '1.1X', '1.3X', '2X'], 'rc': ['rc-0.95']},\n",
    "    \"prediction_type\": {'audible': ['est'], 'gaussian': ['est', 'oracle'], 'baseline-coef': ['oracle'], 'rc': ['oracle']},\n",
    "    \"lb_name\": ['worst-fit_usage'],\n",
    "    \"algorithm_name\": ['audible', 'gaussian', 'baseline-coef', 'rc']\n",
    "}\n",
    "\n",
    "all_widgets = {}\n",
    "for key in config_dict:\n",
    "    style = {'description_width': 'initial'}\n",
    "    if key in widget_options:\n",
    "        all_widgets[key] = widgets.Dropdown(options=widget_options[key] if key not in ['first_model', 'prediction_type'] else widget_options[key][config_dict[\"algorithm_name\"]], \n",
    "                                            value=config_dict[key], \n",
    "                                            description=key.replace('_', ' ').capitalize() + ':', style = style)\n",
    "    elif key in [\"rand_seed\", \"num_arrival_vms_per_time_idx\", \"number_of_servers\"]:\n",
    "        all_widgets[key] = widgets.BoundedIntText(value = 1, min=1, max=1000000, description = key.replace('_', ' ').capitalize() + ':', style = style)\n",
    "    elif key in [\"time_bound\"]:\n",
    "        all_widgets[key] = widgets.BoundedIntText(value = 86400, min=1, max=1000000, description = key.replace('_', ' ').capitalize() + ':', style = style)\n",
    "    else:\n",
    "        all_widgets[key] = widgets.IntText(config_dict[key], description = key.replace('_', ' ').capitalize() + ':', disabled = True, style = style)\n",
    "    \n",
    "\n",
    "# Dynamic update functions\n",
    "def update_first_model_options(*args):\n",
    "    all_widgets['first_model'].options = widget_options['first_model'][all_widgets['algorithm_name'].value]\n",
    "    if all_widgets['first_model'].value not in all_widgets['first_model'].options:\n",
    "        all_widgets['first_model'].value = all_widgets['first_model'].options[0]\n",
    "\n",
    "def update_prediction_type_options(*args):\n",
    "    all_widgets['prediction_type'].options = widget_options['prediction_type'][all_widgets['algorithm_name'].value]\n",
    "    if all_widgets['prediction_type'].value not in all_widgets['prediction_type'].options:\n",
    "        all_widgets['prediction_type'].value = all_widgets['prediction_type'].options[0]\n",
    "\n",
    "# Set observers\n",
    "all_widgets['algorithm_name'].observe(update_first_model_options, 'value')\n",
    "all_widgets['algorithm_name'].observe(update_prediction_type_options, 'value')\n",
    "\n",
    "# Call update functions to set initial state correctly\n",
    "update_first_model_options()\n",
    "update_prediction_type_options()\n",
    "\n",
    "# Function to save the widget values as a JSON file\n",
    "def save_json_button_clicked(b):\n",
    "    settings_dict = {key: widget.value for key, widget in all_widgets.items()}\n",
    "    # print(settings_dict)\n",
    "    fn = '_'.join([str(settings_dict[i]) for i in settings_dict]) \n",
    "    fn += '.json'\n",
    "    file_path = f'simulation_param_files/{fn}'\n",
    "    os.makedirs('simulation_param_files', exist_ok=True)\n",
    "    with open(file_path, 'w') as json_file:\n",
    "        json.dump(settings_dict, json_file, indent=4)\n",
    "    print(f\"Configuration saved to {file_path}\")\n",
    "\n",
    "# Generate Simulation Dict and Save it\n",
    "gen_json_button = widgets.Button(description='Save Simulation Param Dict!')\n",
    "gen_json_button.layout.width = '200px'\n",
    "gen_json_button.on_click(save_json_button_clicked)\n",
    "\n",
    "# Display all widgets and the button\n",
    "widget_width = '600px'  # Adjust the width as needed)\n",
    "\n",
    "# Set layout width for each widget\n",
    "for widget in all_widgets.values():\n",
    "    widget.layout.width = widget_width\n",
    "    display(widget)\n",
    "display(gen_json_button)\n"
   ]
  },
  {
   "cell_type": "markdown",
   "metadata": {},
   "source": [
    "## <a id='toc3_3_'></a>[Example of Running Audible](#toc0_)"
   ]
  },
  {
   "cell_type": "code",
   "execution_count": 3,
   "metadata": {},
   "outputs": [
    {
     "name": "stdout",
     "output_type": "stream",
     "text": [
      "Reading data files took 0:00:07.546409\n"
     ]
    },
    {
     "name": "stderr",
     "output_type": "stream",
     "text": [
      "100%|██████████| 86400/86400 [00:37<00:00, 2304.74it/s]\n"
     ]
    },
    {
     "name": "stdout",
     "output_type": "stream",
     "text": [
      "length of dropped_vmids for arrival  4  is  0\n",
      "Average utilization accross all servers: 6.116305853174603\n",
      "Number of servers with violation more than 1.0% in the last week is 0\n",
      "Running  {'rand_seed': 1, 'algorithm_name': 'audible', 'ds_name': '2021_burstable', 'num_arrival_vms_per_time_idx': 2, 'time_bound': 86400, 'first_model': 0.95, 'prediction_type': 'est', 'lb_name': 'worst-fit_usage', 'number_of_servers': 10, 'server_capacity': 48, 'acceptable_violation': 0.01, 'retreat_num_samples': 0, 'drop': True, 'steady_state_time': 2016}\n",
      "Reading data files took 0:00:06.159960\n"
     ]
    },
    {
     "name": "stderr",
     "output_type": "stream",
     "text": [
      "100%|██████████| 86400/86400 [00:09<00:00, 9122.79it/s]\n"
     ]
    },
    {
     "name": "stdout",
     "output_type": "stream",
     "text": [
      "length of dropped_vmids for arrival  2  is  0\n",
      "Average utilization accross all servers: 15.767267857142844\n",
      "Number of servers with violation more than 1.0% in the last week is 0\n"
     ]
    }
   ],
   "source": [
    "%run src/main.py \"simulation_param_files/1_audible_2021_burstable_2_86400_0.95_est_worst-fit_usage_10_48_0.01_0_True_2016.json\""
   ]
  },
  {
   "cell_type": "markdown",
   "metadata": {},
   "source": [
    "## <a id='toc3_4_'></a>[Example of Running Gaussian](#toc0_)"
   ]
  },
  {
   "cell_type": "code",
   "execution_count": 4,
   "metadata": {},
   "outputs": [
    {
     "name": "stdout",
     "output_type": "stream",
     "text": [
      "Running  {'rand_seed': 1, 'algorithm_name': 'gaussian', 'ds_name': '2021_burstable', 'num_arrival_vms_per_time_idx': 2, 'time_bound': 86400, 'first_model': 0.95, 'prediction_type': 'est', 'lb_name': 'worst-fit_usage', 'number_of_servers': 10, 'server_capacity': 48, 'acceptable_violation': 0.01, 'retreat_num_samples': 0, 'drop': True, 'steady_state_time': 2016}\n",
      "Reading data files took 0:00:06.952502\n"
     ]
    },
    {
     "name": "stderr",
     "output_type": "stream",
     "text": [
      "100%|██████████| 86400/86400 [00:08<00:00, 10677.58it/s]\n"
     ]
    },
    {
     "name": "stdout",
     "output_type": "stream",
     "text": [
      "length of dropped_vmids for arrival  2  is  0\n",
      "Average utilization accross all servers: 15.767267857142844\n",
      "Number of servers with violation more than 1.0% in the last week is 0\n"
     ]
    }
   ],
   "source": [
    "%run src/main.py \"simulation_param_files/1_gaussian_2021_burstable_2_86400_0.95_est_worst-fit_usage_10_48_0.01_0_True_2016.json\""
   ]
  },
  {
   "cell_type": "markdown",
   "metadata": {},
   "source": [
    "## <a id='toc3_5_'></a>[Example of Running Resource Central](#toc0_)"
   ]
  },
  {
   "cell_type": "code",
   "execution_count": 5,
   "metadata": {},
   "outputs": [
    {
     "name": "stdout",
     "output_type": "stream",
     "text": [
      "Running  {'rand_seed': 1, 'algorithm_name': 'rc', 'ds_name': '2021_burstable', 'num_arrival_vms_per_time_idx': 2, 'time_bound': 86400, 'first_model': 'rc-0.95', 'prediction_type': 'oracle', 'lb_name': 'worst-fit_usage', 'number_of_servers': 10, 'server_capacity': 48, 'acceptable_violation': 0.01, 'retreat_num_samples': 0, 'drop': True, 'steady_state_time': 2016}\n",
      "Reading data files took 0:00:04.145793\n"
     ]
    },
    {
     "name": "stderr",
     "output_type": "stream",
     "text": [
      " 23%|██▎       | 19608/86400 [00:00<00:02, 26748.52it/s]\n"
     ]
    },
    {
     "name": "stdout",
     "output_type": "stream",
     "text": [
      "Rejecting a VM at time 19608\n"
     ]
    }
   ],
   "source": [
    "%run src/main.py \"simulation_param_files/1_rc_2021_burstable_2_86400_rc-0.95_oracle_worst-fit_usage_10_48_0.01_0_True_2016.json\""
   ]
  },
  {
   "cell_type": "markdown",
   "metadata": {},
   "source": [
    "## <a id='toc3_6_'></a>[Example of Running Coefficient of Baseline](#toc0_)"
   ]
  },
  {
   "cell_type": "code",
   "execution_count": 6,
   "metadata": {},
   "outputs": [
    {
     "name": "stdout",
     "output_type": "stream",
     "text": [
      "Running  {'rand_seed': 1, 'algorithm_name': 'baseline-coef', 'ds_name': '2021_burstable', 'num_arrival_vms_per_time_idx': 2, 'time_bound': 86400, 'first_model': '0.5X', 'prediction_type': 'oracle', 'lb_name': 'worst-fit_usage', 'number_of_servers': 10, 'server_capacity': 48, 'acceptable_violation': 0.01, 'retreat_num_samples': 0, 'drop': True, 'steady_state_time': 2016}\n",
      "Reading data files took 0:00:04.116228\n"
     ]
    },
    {
     "name": "stderr",
     "output_type": "stream",
     "text": [
      "100%|██████████| 86400/86400 [00:03<00:00, 27938.99it/s]\n"
     ]
    },
    {
     "name": "stdout",
     "output_type": "stream",
     "text": [
      "length of dropped_vmids for arrival  2  is  0\n",
      "Average utilization accross all servers: 15.767267857142844\n",
      "Number of servers with violation more than 1.0% in the last week is 0\n"
     ]
    }
   ],
   "source": [
    "%run src/main.py \"simulation_param_files/1_baseline-coef_2021_burstable_2_86400_0.5X_oracle_worst-fit_usage_10_48_0.01_0_True_2016.json\""
   ]
  }
 ],
 "metadata": {
  "kernelspec": {
   "display_name": "Python 3",
   "language": "python",
   "name": "python3"
  },
  "language_info": {
   "codemirror_mode": {
    "name": "ipython",
    "version": 3
   },
   "file_extension": ".py",
   "mimetype": "text/x-python",
   "name": "python",
   "nbconvert_exporter": "python",
   "pygments_lexer": "ipython3",
   "version": "3.9.16"
  }
 },
 "nbformat": 4,
 "nbformat_minor": 2
}
